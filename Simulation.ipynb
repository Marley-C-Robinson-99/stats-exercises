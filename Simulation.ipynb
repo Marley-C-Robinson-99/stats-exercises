{
 "cells": [
  {
   "cell_type": "code",
   "execution_count": 1,
   "id": "42e656f5",
   "metadata": {},
   "outputs": [],
   "source": [
    "import numpy as np\n",
    "import pandas as pd\n",
    "import viz"
   ]
  },
  {
   "cell_type": "code",
   "execution_count": 2,
   "id": "d531514a",
   "metadata": {},
   "outputs": [
    {
     "name": "stdout",
     "output_type": "stream",
     "text": [
      "16.6772\n"
     ]
    }
   ],
   "source": [
    "outcomes = [1, 2 ,3, 4, 5, 6]\n",
    "n_simulations = 1_000_000\n",
    "n_trials = 2 # number of dice\n",
    "\n",
    "rolls = np.random.choice(outcomes, size=(n_simulations, n_trials))\n",
    "val = [roll for roll in rolls if np.all(roll == roll[0])]\n",
    "print(len(val)/len(rolls)*100)"
   ]
  },
  {
   "cell_type": "code",
   "execution_count": 3,
   "id": "f1aae2cb",
   "metadata": {},
   "outputs": [],
   "source": [
    "outcomes = [0,1]\n",
    "n_simulations = 1_000_000\n",
    "n_trials = 8\n",
    "\n",
    "flips = np.random.choice(outcomes, size=(n_simulations, n_trials))"
   ]
  },
  {
   "cell_type": "code",
   "execution_count": 4,
   "id": "4daa35e1",
   "metadata": {},
   "outputs": [
    {
     "data": {
      "text/plain": [
       "0.218735"
      ]
     },
     "execution_count": 4,
     "metadata": {},
     "output_type": "execute_result"
    }
   ],
   "source": [
    "flipped = flips.sum(axis=1)\n",
    "(flipped == 3).mean()"
   ]
  },
  {
   "cell_type": "code",
   "execution_count": 5,
   "id": "65c30f40",
   "metadata": {},
   "outputs": [
    {
     "data": {
      "text/plain": [
       "0.636423"
      ]
     },
     "execution_count": 5,
     "metadata": {},
     "output_type": "execute_result"
    }
   ],
   "source": [
    "(flipped > 3).mean()"
   ]
  },
  {
   "cell_type": "code",
   "execution_count": 6,
   "id": "4e035db7",
   "metadata": {},
   "outputs": [],
   "source": [
    "outcomes = [0,1] #data science == 1\n",
    "n_simulations = 1_000_000\n",
    "n_trials = 2\n",
    "\n",
    "cohorts = np.random.choice(outcomes, size=(n_simulations, n_trials), p = [.75, .25])"
   ]
  },
  {
   "cell_type": "code",
   "execution_count": 7,
   "id": "15a4fa6d",
   "metadata": {},
   "outputs": [
    {
     "data": {
      "text/plain": [
       "6.2385"
      ]
     },
     "execution_count": 7,
     "metadata": {},
     "output_type": "execute_result"
    }
   ],
   "source": [
    "cohort_students = cohorts.sum(axis = 1)\n",
    "(cohort_students == 2).mean() * 100"
   ]
  },
  {
   "cell_type": "code",
   "execution_count": 24,
   "id": "90cc112e",
   "metadata": {},
   "outputs": [
    {
     "data": {
      "text/plain": [
       "88.37"
      ]
     },
     "execution_count": 24,
     "metadata": {},
     "output_type": "execute_result"
    }
   ],
   "source": [
    "normal = np.random.normal(3.0, 1.5, size = (10_000, 5)).astype(int)\n",
    "norms = normal.sum(axis = 1)\n",
    "norms_rounded = np.round(norms)\n",
    "(norms_rounded <= 16).mean() * 100"
   ]
  },
  {
   "cell_type": "code",
   "execution_count": 9,
   "id": "35c75845",
   "metadata": {},
   "outputs": [],
   "source": [
    "m_height = np.random.normal(178, 8, size = (100_000))\n",
    "f_height = np.random.normal(170, 6, size = (100_000))"
   ]
  },
  {
   "cell_type": "code",
   "execution_count": 10,
   "id": "583a0410",
   "metadata": {},
   "outputs": [
    {
     "data": {
      "text/plain": [
       "21.297"
      ]
     },
     "execution_count": 10,
     "metadata": {},
     "output_type": "execute_result"
    }
   ],
   "source": [
    "(f_height > m_height).mean() * 100"
   ]
  },
  {
   "cell_type": "code",
   "execution_count": 26,
   "id": "dde18db7",
   "metadata": {},
   "outputs": [],
   "source": [
    "outcomes = [1,0] #1 = failed, 0 = passed\n",
    "#n_trials = 50, ~82% chance\n",
    "#n_trials = 100, ~67% chance\n",
    "n_trials = 150 #~54.7% chance\n",
    "#n_trials = 450 # ~16.4% chance\n",
    "n_simulations = 1_000_000\n",
    "\n",
    "errors = np.random.choice(outcomes, size = (n_simulations, n_trials), p = [1/250, 249/250])"
   ]
  },
  {
   "cell_type": "code",
   "execution_count": 27,
   "id": "20892b23",
   "metadata": {},
   "outputs": [],
   "source": [
    "error_sum = errors.sum(axis = 1)"
   ]
  },
  {
   "cell_type": "code",
   "execution_count": 28,
   "id": "58368c65",
   "metadata": {},
   "outputs": [
    {
     "data": {
      "text/plain": [
       "54.8973"
      ]
     },
     "execution_count": 28,
     "metadata": {},
     "output_type": "execute_result"
    }
   ],
   "source": [
    "(error_sum == 0).mean() * 100"
   ]
  },
  {
   "cell_type": "code",
   "execution_count": 38,
   "id": "ab4378ce",
   "metadata": {},
   "outputs": [
    {
     "name": "stdout",
     "output_type": "stream",
     "text": [
      "0.0205\n"
     ]
    }
   ],
   "source": [
    "truck_present = [True, False]\n",
    "n_simulations = 1_000_000\n",
    "n_trials = 7 #Number of days\n",
    "\n",
    "days = np.random.choice(truck_present, size = (n_simulations, n_trials), p = [.70, .30])\n",
    "val = [day for day in days if np.all(day == 0)]\n",
    "print(len(val)/len(days)*100)"
   ]
  },
  {
   "cell_type": "code",
   "execution_count": 39,
   "id": "4d0213b9",
   "metadata": {},
   "outputs": [
    {
     "data": {
      "text/plain": [
       "99.9795"
      ]
     },
     "execution_count": 39,
     "metadata": {},
     "output_type": "execute_result"
    }
   ],
   "source": [
    "(days.sum(axis = 1) != 0).mean() * 100"
   ]
  },
  {
   "cell_type": "code",
   "execution_count": 40,
   "id": "83216fdf",
   "metadata": {},
   "outputs": [],
   "source": [
    "outcomes = range(0,365)\n",
    "n_trials = 23\n",
    "n_simulations = 100_000\n",
    "\n",
    "bdays = np.random.choice(outcomes, size = (n_simulations, n_trials))\n",
    "\n",
    "bdays_in_common = 0\n",
    "for arr in bdays:\n",
    "    days, counts = np.unique(arr, return_counts = True)\n",
    "    if len(days[counts > 1]) != 0:\n",
    "        bdays_in_common += 1\n",
    "\n",
    "        \n",
    "p = (bdays_in_common/len(bdays)) * 100"
   ]
  },
  {
   "cell_type": "code",
   "execution_count": 41,
   "id": "a2360439",
   "metadata": {},
   "outputs": [
    {
     "data": {
      "text/plain": [
       "50917"
      ]
     },
     "execution_count": 41,
     "metadata": {},
     "output_type": "execute_result"
    }
   ],
   "source": [
    "bdays_in_common"
   ]
  },
  {
   "cell_type": "code",
   "execution_count": 42,
   "id": "f9d5a9bb",
   "metadata": {},
   "outputs": [
    {
     "data": {
      "text/plain": [
       "50.917"
      ]
     },
     "execution_count": 42,
     "metadata": {},
     "output_type": "execute_result"
    }
   ],
   "source": [
    "p"
   ]
  },
  {
   "cell_type": "code",
   "execution_count": null,
   "id": "09e852c7",
   "metadata": {},
   "outputs": [],
   "source": []
  }
 ],
 "metadata": {
  "kernelspec": {
   "display_name": "Python 3",
   "language": "python",
   "name": "python3"
  },
  "language_info": {
   "codemirror_mode": {
    "name": "ipython",
    "version": 3
   },
   "file_extension": ".py",
   "mimetype": "text/x-python",
   "name": "python",
   "nbconvert_exporter": "python",
   "pygments_lexer": "ipython3",
   "version": "3.8.8"
  }
 },
 "nbformat": 4,
 "nbformat_minor": 5
}
