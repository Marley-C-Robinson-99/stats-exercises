{
 "cells": [
  {
   "cell_type": "code",
   "execution_count": 23,
   "id": "42e656f5",
   "metadata": {},
   "outputs": [],
   "source": [
    "import numpy as np\n",
    "import pandas as pd\n",
    "import viz"
   ]
  },
  {
   "cell_type": "code",
   "execution_count": 32,
   "id": "d531514a",
   "metadata": {},
   "outputs": [
    {
     "name": "stdout",
     "output_type": "stream",
     "text": [
      "16.6556\n"
     ]
    }
   ],
   "source": [
    "outcomes = [1, 2 ,3, 4, 5, 6]\n",
    "n_simulations = 1_000_000\n",
    "n_trials = 2 # number of dice\n",
    "\n",
    "rolls = np.random.choice(outcomes, size=(n_simulations, n_trials))\n",
    "val = [roll for roll in rolls if np.all(roll == roll[0])]\n",
    "print(len(val)/len(rolls)*100)"
   ]
  },
  {
   "cell_type": "code",
   "execution_count": 38,
   "id": "f1aae2cb",
   "metadata": {},
   "outputs": [],
   "source": [
    "outcomes = [0,1]\n",
    "n_simulations = 1_000_000\n",
    "n_trials = 8\n",
    "\n",
    "flips = np.random.choice(outcomes, size=(n_simulations, n_trials))"
   ]
  },
  {
   "cell_type": "code",
   "execution_count": 40,
   "id": "4daa35e1",
   "metadata": {},
   "outputs": [
    {
     "data": {
      "text/plain": [
       "0.2182"
      ]
     },
     "execution_count": 40,
     "metadata": {},
     "output_type": "execute_result"
    }
   ],
   "source": [
    "flipped = flips.sum(axis=1)\n",
    "(flipped == 3).mean()"
   ]
  },
  {
   "cell_type": "code",
   "execution_count": 42,
   "id": "65c30f40",
   "metadata": {},
   "outputs": [
    {
     "data": {
      "text/plain": [
       "0.637392"
      ]
     },
     "execution_count": 42,
     "metadata": {},
     "output_type": "execute_result"
    }
   ],
   "source": [
    "(flipped > 3).mean()"
   ]
  },
  {
   "cell_type": "code",
   "execution_count": 46,
   "id": "4e035db7",
   "metadata": {},
   "outputs": [],
   "source": [
    "outcomes = [0,1] #data science == 1\n",
    "n_simulations = 1_000_000\n",
    "n_trials = 2\n",
    "\n",
    "cohorts = np.random.choice(outcomes, size=(n_simulations, n_trials), p = [.75, .25])"
   ]
  },
  {
   "cell_type": "code",
   "execution_count": 48,
   "id": "15a4fa6d",
   "metadata": {},
   "outputs": [
    {
     "data": {
      "text/plain": [
       "6.2189000000000005"
      ]
     },
     "execution_count": 48,
     "metadata": {},
     "output_type": "execute_result"
    }
   ],
   "source": [
    "cohort_students = cohorts.sum(axis = 1)\n",
    "(cohort_students == 2).mean() * 100"
   ]
  },
  {
   "cell_type": "code",
   "execution_count": 73,
   "id": "90cc112e",
   "metadata": {},
   "outputs": [
    {
     "data": {
      "text/plain": [
       "67.46"
      ]
     },
     "execution_count": 73,
     "metadata": {},
     "output_type": "execute_result"
    }
   ],
   "source": [
    "normal = np.random.normal(3.0, 1.5, size = (10_000, 5))\n",
    "norms = normal.sum(axis = 1)\n",
    "norms_rounded = np.round(norms)\n",
    "(norms_rounded <= 16).mean() * 100"
   ]
  },
  {
   "cell_type": "code",
   "execution_count": 89,
   "id": "35c75845",
   "metadata": {},
   "outputs": [],
   "source": [
    "m_height = np.random.normal(178, 8, size = (100_000))\n",
    "f_height = np.random.normal(170, 6, size = (100_000))"
   ]
  },
  {
   "cell_type": "code",
   "execution_count": 91,
   "id": "583a0410",
   "metadata": {},
   "outputs": [
    {
     "data": {
      "text/plain": [
       "20.943"
      ]
     },
     "execution_count": 91,
     "metadata": {},
     "output_type": "execute_result"
    }
   ],
   "source": [
    "(f_height > m_height).mean() * 100"
   ]
  },
  {
   "cell_type": "code",
   "execution_count": 151,
   "id": "dde18db7",
   "metadata": {},
   "outputs": [],
   "source": [
    "outcomes = [1,0] #1 = failed, 0 = passed\n",
    "#n_trials = 50, ~82% chance\n",
    "#n_trials = 100, ~67% chance\n",
    "#n_trials = 150, ~54.7% chance\n",
    "n_trials = 450 # ~16.4% chance\n",
    "n_simulations = 1_000_000\n",
    "\n",
    "errors = np.random.choice(outcomes, size = (n_simulations, n_trials), p = [1/250, 249/250])"
   ]
  },
  {
   "cell_type": "code",
   "execution_count": 152,
   "id": "20892b23",
   "metadata": {},
   "outputs": [],
   "source": [
    "error_sum = errors.sum(axis = 1)"
   ]
  },
  {
   "cell_type": "code",
   "execution_count": 153,
   "id": "58368c65",
   "metadata": {},
   "outputs": [
    {
     "data": {
      "text/plain": [
       "16.4246"
      ]
     },
     "execution_count": 153,
     "metadata": {},
     "output_type": "execute_result"
    }
   ],
   "source": [
    "(error_sum == 0).mean() * 100"
   ]
  },
  {
   "cell_type": "code",
   "execution_count": 183,
   "id": "ab4378ce",
   "metadata": {},
   "outputs": [
    {
     "name": "stdout",
     "output_type": "stream",
     "text": [
      "0.022699999999999998\n"
     ]
    }
   ],
   "source": [
    "truck_present = [True, False]\n",
    "n_simulations = 1_000_000\n",
    "n_trials = 7 #Number of days\n",
    "\n",
    "days = np.random.choice(truck_present, size = (n_simulations, n_trials), p = [.70, .30])\n",
    "val = [day for day in days if np.all(day == 0)]\n",
    "print(len(val)/len(days)*100)"
   ]
  },
  {
   "cell_type": "code",
   "execution_count": 189,
   "id": "4d0213b9",
   "metadata": {},
   "outputs": [
    {
     "data": {
      "text/plain": [
       "99.9773"
      ]
     },
     "execution_count": 189,
     "metadata": {},
     "output_type": "execute_result"
    }
   ],
   "source": [
    "(days.sum(axis = 1) != 0).mean() * 100"
   ]
  },
  {
   "cell_type": "code",
   "execution_count": 228,
   "id": "83216fdf",
   "metadata": {},
   "outputs": [],
   "source": [
    "outcomes = range(0,365)\n",
    "n_trials = 23\n",
    "n_simulations = 100_000\n",
    "\n",
    "bdays = np.random.choice(outcomes, size = (n_simulations, n_trials))\n",
    "\n",
    "bdays_in_common = 0\n",
    "for arr in bdays:\n",
    "    days, counts = np.unique(arr, return_counts = True)\n",
    "    if len(days[counts > 1]) != 0:\n",
    "        bdays_in_common += 1\n",
    "\n",
    "        \n",
    "p = round(bdays_in_common/len(bdays) * 100)"
   ]
  },
  {
   "cell_type": "code",
   "execution_count": 229,
   "id": "a2360439",
   "metadata": {},
   "outputs": [
    {
     "data": {
      "text/plain": [
       "50827"
      ]
     },
     "execution_count": 229,
     "metadata": {},
     "output_type": "execute_result"
    }
   ],
   "source": [
    "bdays_in_common"
   ]
  },
  {
   "cell_type": "code",
   "execution_count": 230,
   "id": "f9d5a9bb",
   "metadata": {},
   "outputs": [
    {
     "data": {
      "text/plain": [
       "51"
      ]
     },
     "execution_count": 230,
     "metadata": {},
     "output_type": "execute_result"
    }
   ],
   "source": [
    "p"
   ]
  },
  {
   "cell_type": "code",
   "execution_count": null,
   "id": "47786c85",
   "metadata": {},
   "outputs": [],
   "source": []
  }
 ],
 "metadata": {
  "kernelspec": {
   "display_name": "Python 3",
   "language": "python",
   "name": "python3"
  },
  "language_info": {
   "codemirror_mode": {
    "name": "ipython",
    "version": 3
   },
   "file_extension": ".py",
   "mimetype": "text/x-python",
   "name": "python",
   "nbconvert_exporter": "python",
   "pygments_lexer": "ipython3",
   "version": "3.8.8"
  }
 },
 "nbformat": 4,
 "nbformat_minor": 5
}
