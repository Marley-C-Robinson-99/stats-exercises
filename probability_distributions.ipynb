{
 "cells": [
  {
   "cell_type": "code",
   "execution_count": 2,
   "id": "b9215968",
   "metadata": {},
   "outputs": [],
   "source": [
    "import matplotlib.pyplot as plt\n",
    "import numpy as np\n",
    "from scipy import stats\n",
    "import viz # curriculum viz example code"
   ]
  },
  {
   "cell_type": "markdown",
   "id": "026f9ced",
   "metadata": {},
   "source": [
    "# Problem 1\n",
    "## A bank found that the average number of cars waiting during the noon hour at a drive-up window follows a Poisson distribution with a mean of 2 cars. Make a chart of this distribution and answer these questions concerning the probability of cars waiting at the drive-up window.\n",
    "\n",
    "- What is the probability that no cars drive up in the noon hour?\n",
    "- What is the probability that 3 or more cars come through the drive through?\n",
    "- How likely is it that the drive through gets at least 1 car?"
   ]
  },
  {
   "cell_type": "code",
   "execution_count": 103,
   "id": "17e2d0e2",
   "metadata": {
    "scrolled": true
   },
   "outputs": [
    {
     "data": {
      "text/plain": [
       "13.53352832366127"
      ]
     },
     "execution_count": 103,
     "metadata": {},
     "output_type": "execute_result"
    }
   ],
   "source": [
    "stats.poisson(2).pmf(0) * 100"
   ]
  },
  {
   "cell_type": "code",
   "execution_count": 100,
   "id": "03ca1a91",
   "metadata": {},
   "outputs": [
    {
     "data": {
      "text/html": [
       "<div>\n",
       "<style scoped>\n",
       "    .dataframe tbody tr th:only-of-type {\n",
       "        vertical-align: middle;\n",
       "    }\n",
       "\n",
       "    .dataframe tbody tr th {\n",
       "        vertical-align: top;\n",
       "    }\n",
       "\n",
       "    .dataframe thead th {\n",
       "        text-align: right;\n",
       "    }\n",
       "</style>\n",
       "<table border=\"1\" class=\"dataframe\">\n",
       "  <thead>\n",
       "    <tr style=\"text-align: right;\">\n",
       "      <th></th>\n",
       "      <th>0</th>\n",
       "    </tr>\n",
       "  </thead>\n",
       "  <tbody>\n",
       "    <tr>\n",
       "      <th>0</th>\n",
       "      <td>1</td>\n",
       "    </tr>\n",
       "    <tr>\n",
       "      <th>1</th>\n",
       "      <td>1</td>\n",
       "    </tr>\n",
       "    <tr>\n",
       "      <th>2</th>\n",
       "      <td>5</td>\n",
       "    </tr>\n",
       "    <tr>\n",
       "      <th>3</th>\n",
       "      <td>1</td>\n",
       "    </tr>\n",
       "    <tr>\n",
       "      <th>4</th>\n",
       "      <td>2</td>\n",
       "    </tr>\n",
       "  </tbody>\n",
       "</table>\n",
       "</div>"
      ],
      "text/plain": [
       "   0\n",
       "0  1\n",
       "1  1\n",
       "2  5\n",
       "3  1\n",
       "4  2"
      ]
     },
     "execution_count": 100,
     "metadata": {},
     "output_type": "execute_result"
    }
   ],
   "source": [
    "nrows = 100000\n",
    "ncols = 1\n",
    "\n",
    "rolls = np.random.poisson(2, nrows * ncols).reshape(nrows, ncols)\n",
    "df = pd.DataFrame(rolls)\n",
    "df.head()"
   ]
  },
  {
   "cell_type": "code",
   "execution_count": 101,
   "id": "cf0e0ba0",
   "metadata": {
    "scrolled": true
   },
   "outputs": [
    {
     "data": {
      "text/html": [
       "<div>\n",
       "<style scoped>\n",
       "    .dataframe tbody tr th:only-of-type {\n",
       "        vertical-align: middle;\n",
       "    }\n",
       "\n",
       "    .dataframe tbody tr th {\n",
       "        vertical-align: top;\n",
       "    }\n",
       "\n",
       "    .dataframe thead th {\n",
       "        text-align: right;\n",
       "    }\n",
       "</style>\n",
       "<table border=\"1\" class=\"dataframe\">\n",
       "  <thead>\n",
       "    <tr style=\"text-align: right;\">\n",
       "      <th></th>\n",
       "      <th>0</th>\n",
       "      <th>zero_cars</th>\n",
       "    </tr>\n",
       "  </thead>\n",
       "  <tbody>\n",
       "    <tr>\n",
       "      <th>0</th>\n",
       "      <td>1</td>\n",
       "      <td>False</td>\n",
       "    </tr>\n",
       "    <tr>\n",
       "      <th>1</th>\n",
       "      <td>1</td>\n",
       "      <td>False</td>\n",
       "    </tr>\n",
       "    <tr>\n",
       "      <th>2</th>\n",
       "      <td>5</td>\n",
       "      <td>False</td>\n",
       "    </tr>\n",
       "    <tr>\n",
       "      <th>3</th>\n",
       "      <td>1</td>\n",
       "      <td>False</td>\n",
       "    </tr>\n",
       "    <tr>\n",
       "      <th>4</th>\n",
       "      <td>2</td>\n",
       "      <td>False</td>\n",
       "    </tr>\n",
       "  </tbody>\n",
       "</table>\n",
       "</div>"
      ],
      "text/plain": [
       "   0  zero_cars\n",
       "0  1      False\n",
       "1  1      False\n",
       "2  5      False\n",
       "3  1      False\n",
       "4  2      False"
      ]
     },
     "execution_count": 101,
     "metadata": {},
     "output_type": "execute_result"
    }
   ],
   "source": [
    "df['zero_cars'] = df[0] == 0\n",
    "df.head()"
   ]
  },
  {
   "cell_type": "code",
   "execution_count": 102,
   "id": "3e473ef2",
   "metadata": {},
   "outputs": [
    {
     "data": {
      "text/plain": [
       "13.497"
      ]
     },
     "execution_count": 102,
     "metadata": {},
     "output_type": "execute_result"
    }
   ],
   "source": [
    "df.zero_cars.mean() * 100"
   ]
  },
  {
   "cell_type": "code",
   "execution_count": 110,
   "id": "bb21994d",
   "metadata": {},
   "outputs": [
    {
     "data": {
      "text/plain": [
       "14.287653950145296"
      ]
     },
     "execution_count": 110,
     "metadata": {},
     "output_type": "execute_result"
    }
   ],
   "source": [
    "stats.poisson(2).sf(3) * 100"
   ]
  },
  {
   "cell_type": "code",
   "execution_count": 5,
   "id": "dedd6f52",
   "metadata": {},
   "outputs": [
    {
     "data": {
      "text/plain": [
       "86.46647167633873"
      ]
     },
     "execution_count": 5,
     "metadata": {},
     "output_type": "execute_result"
    }
   ],
   "source": [
    "stats.poisson(2).sf(0) * 100"
   ]
  },
  {
   "cell_type": "code",
   "execution_count": 107,
   "id": "eff0f0bb",
   "metadata": {
    "scrolled": true
   },
   "outputs": [
    {
     "data": {
      "text/html": [
       "<div>\n",
       "<style scoped>\n",
       "    .dataframe tbody tr th:only-of-type {\n",
       "        vertical-align: middle;\n",
       "    }\n",
       "\n",
       "    .dataframe tbody tr th {\n",
       "        vertical-align: top;\n",
       "    }\n",
       "\n",
       "    .dataframe thead th {\n",
       "        text-align: right;\n",
       "    }\n",
       "</style>\n",
       "<table border=\"1\" class=\"dataframe\">\n",
       "  <thead>\n",
       "    <tr style=\"text-align: right;\">\n",
       "      <th></th>\n",
       "      <th>0</th>\n",
       "      <th>three_cars</th>\n",
       "    </tr>\n",
       "  </thead>\n",
       "  <tbody>\n",
       "    <tr>\n",
       "      <th>0</th>\n",
       "      <td>2</td>\n",
       "      <td>False</td>\n",
       "    </tr>\n",
       "    <tr>\n",
       "      <th>1</th>\n",
       "      <td>0</td>\n",
       "      <td>False</td>\n",
       "    </tr>\n",
       "    <tr>\n",
       "      <th>2</th>\n",
       "      <td>1</td>\n",
       "      <td>False</td>\n",
       "    </tr>\n",
       "    <tr>\n",
       "      <th>3</th>\n",
       "      <td>5</td>\n",
       "      <td>True</td>\n",
       "    </tr>\n",
       "    <tr>\n",
       "      <th>4</th>\n",
       "      <td>4</td>\n",
       "      <td>True</td>\n",
       "    </tr>\n",
       "  </tbody>\n",
       "</table>\n",
       "</div>"
      ],
      "text/plain": [
       "   0  three_cars\n",
       "0  2       False\n",
       "1  0       False\n",
       "2  1       False\n",
       "3  5        True\n",
       "4  4        True"
      ]
     },
     "execution_count": 107,
     "metadata": {},
     "output_type": "execute_result"
    }
   ],
   "source": [
    "nrows = 100000\n",
    "ncols = 1\n",
    "\n",
    "rolls = np.random.poisson(2, nrows * ncols).reshape(nrows, ncols)\n",
    "df = pd.DataFrame(rolls)\n",
    "\n",
    "df['three_cars'] = df[0] >= 3\n",
    "df.head()"
   ]
  },
  {
   "cell_type": "code",
   "execution_count": 109,
   "id": "a519706f",
   "metadata": {},
   "outputs": [
    {
     "data": {
      "text/plain": [
       "32.144"
      ]
     },
     "execution_count": 109,
     "metadata": {},
     "output_type": "execute_result"
    }
   ],
   "source": [
    "df.three_cars.mean()* 100"
   ]
  },
  {
   "cell_type": "code",
   "execution_count": 6,
   "id": "0cf65cb8",
   "metadata": {},
   "outputs": [
    {
     "data": {
      "text/plain": [
       "[<matplotlib.lines.Line2D at 0x7fc0a0678eb0>]"
      ]
     },
     "execution_count": 6,
     "metadata": {},
     "output_type": "execute_result"
    },
    {
     "data": {
      "image/png": "[encoded data removed]",
      "text/plain": [
       "<Figure size 648x432 with 1 Axes>"
      ]
     },
     "metadata": {
      "needs_background": "light"
     },
     "output_type": "display_data"
    }
   ],
   "source": [
    "x = range(0,9)\n",
    "y = stats.poisson.sf(x, mu=2)\n",
    "plt.plot(x, y)"
   ]
  },
  {
   "cell_type": "markdown",
   "id": "511a81ad",
   "metadata": {},
   "source": [
    "# Problem 2\n",
    "## Grades of State University graduates are normally distributed with a mean of 3.0 and a standard deviation of .3. Calculate the following:\n",
    "\n",
    "- What grade point average is required to be in the top 5% of the graduating class?\n",
    "- What GPA constitutes the bottom 15% of the class?\n",
    "- An eccentric alumnus left scholarship money for students in the third decile from the bottom of their class. Determine the range of the third decile. Would a student with a 2.8 grade point average qualify for this scholarship?\n",
    "- If I have a GPA of 3.5, what percentile am I in?"
   ]
  },
  {
   "cell_type": "code",
   "execution_count": 7,
   "id": "b5ec37f9",
   "metadata": {},
   "outputs": [
    {
     "data": {
      "text/plain": [
       "3.4934560880854417"
      ]
     },
     "execution_count": 7,
     "metadata": {},
     "output_type": "execute_result"
    }
   ],
   "source": [
    "stats.norm(3.0, .3).isf(.05)"
   ]
  },
  {
   "cell_type": "code",
   "execution_count": 8,
   "id": "e9f9c9ac",
   "metadata": {},
   "outputs": [
    {
     "data": {
      "text/plain": [
       "2.689069983151863"
      ]
     },
     "execution_count": 8,
     "metadata": {},
     "output_type": "execute_result"
    }
   ],
   "source": [
    "stats.norm(3.0, .3).ppf(.15)"
   ]
  },
  {
   "cell_type": "code",
   "execution_count": 112,
   "id": "45f69dbd",
   "metadata": {},
   "outputs": [
    {
     "data": {
      "text/plain": [
       "2.7475136299281258"
      ]
     },
     "execution_count": 112,
     "metadata": {},
     "output_type": "execute_result"
    }
   ],
   "source": [
    "stats.norm(3.0, .3).ppf(.2) #range lower"
   ]
  },
  {
   "cell_type": "code",
   "execution_count": 111,
   "id": "b6740772",
   "metadata": {},
   "outputs": [
    {
     "data": {
      "text/plain": [
       "2.842679846187588"
      ]
     },
     "execution_count": 111,
     "metadata": {},
     "output_type": "execute_result"
    }
   ],
   "source": [
    "stats.norm(3.0, .3).ppf(.3) #range higher"
   ]
  },
  {
   "cell_type": "code",
   "execution_count": 11,
   "id": "b833056d",
   "metadata": {
    "scrolled": true
   },
   "outputs": [
    {
     "data": {
      "text/plain": [
       "0.2524925375469227"
      ]
     },
     "execution_count": 11,
     "metadata": {},
     "output_type": "execute_result"
    }
   ],
   "source": [
    "stats.norm(3.0, .3).cdf(2.8) #Yes, in the bottom 25%"
   ]
  },
  {
   "cell_type": "code",
   "execution_count": 12,
   "id": "6e1c8bad",
   "metadata": {},
   "outputs": [
    {
     "data": {
      "text/plain": [
       "95.22096477271853"
      ]
     },
     "execution_count": 12,
     "metadata": {},
     "output_type": "execute_result"
    }
   ],
   "source": [
    "stats.norm(3.0, .3).cdf(3.5) * 100"
   ]
  },
  {
   "cell_type": "markdown",
   "id": "b9193bb3",
   "metadata": {},
   "source": [
    "# Problem 3\n",
    "## A marketing website has an average click-through rate of 2%. One day they observe 4326 visitors and 97 click-throughs. How likely is it that this many people or more click through?"
   ]
  },
  {
   "cell_type": "code",
   "execution_count": 113,
   "id": "a2e0b5a3",
   "metadata": {},
   "outputs": [
    {
     "data": {
      "text/plain": [
       "13.97582363130086"
      ]
     },
     "execution_count": 113,
     "metadata": {},
     "output_type": "execute_result"
    }
   ],
   "source": [
    "stats.binom(4326, .02).sf(97 - 1) *100"
   ]
  },
  {
   "cell_type": "markdown",
   "id": "3ee3e8c1",
   "metadata": {},
   "source": [
    "# Problem 4\n",
    "## You are working on some statistics homework consisting of 100 questions where all of the answers are a probability rounded to the hundreths place. Looking to save time, you put down random probabilities as the answer to each question."
   ]
  },
  {
   "cell_type": "code",
   "execution_count": 114,
   "id": "6641edf1",
   "metadata": {},
   "outputs": [
    {
     "data": {
      "text/plain": [
       "45.28433576092388"
      ]
     },
     "execution_count": 114,
     "metadata": {},
     "output_type": "execute_result"
    }
   ],
   "source": [
    "stats.binom(60, 1/100).sf(0) *100 "
   ]
  },
  {
   "cell_type": "markdown",
   "id": "c57d10da",
   "metadata": {},
   "source": [
    "# Problem 5\n",
    "## The codeup staff tends to get upset when the student break area is not cleaned up. Suppose that there's a 3% chance that any one student cleans the break area when they visit it, and, on any given day, about 90% of the 3 active cohorts of 22 students visit the break area. How likely is it that the break area gets cleaned up each day? How likely is it that it goes two days without getting cleaned up? All week?"
   ]
  },
  {
   "cell_type": "code",
   "execution_count": 115,
   "id": "ac5cf6ad",
   "metadata": {},
   "outputs": [
    {
     "data": {
      "text/plain": [
       "83.42199288437355"
      ]
     },
     "execution_count": 115,
     "metadata": {},
     "output_type": "execute_result"
    }
   ],
   "source": [
    "stats.binom((.90 * 66), .03).sf(0) *100"
   ]
  },
  {
   "cell_type": "code",
   "execution_count": 16,
   "id": "558a9f0f",
   "metadata": {},
   "outputs": [
    {
     "data": {
      "text/plain": [
       "2.68214363016291"
      ]
     },
     "execution_count": 16,
     "metadata": {},
     "output_type": "execute_result"
    }
   ],
   "source": [
    "stats.binom((.90 * 66) * 2, .03).pmf(0) *100"
   ]
  },
  {
   "cell_type": "code",
   "execution_count": 116,
   "id": "455da725",
   "metadata": {},
   "outputs": [
    {
     "data": {
      "text/plain": [
       "0.011781621791055167"
      ]
     },
     "execution_count": 116,
     "metadata": {},
     "output_type": "execute_result"
    }
   ],
   "source": [
    "stats.binom((.90 * 66) * 5, .03).pmf(0) *100"
   ]
  },
  {
   "cell_type": "markdown",
   "id": "4057b3dd",
   "metadata": {},
   "source": [
    "# Problem 6\n",
    "## You want to get lunch at La Panaderia, but notice that the line is usually very long at lunchtime. After several weeks of careful observation, you notice that the average number of people in line when your lunch break starts is normally distributed with a mean of 15 and standard deviation of 3. If it takes 2 minutes for each person to order, and 10 minutes from ordering to getting your food, what is the likelihood that you have at least 15 minutes left to eat your food before you have to go back to class? Assume you have one hour for lunch, and ignore travel time to and from La Panaderia."
   ]
  },
  {
   "cell_type": "code",
   "execution_count": 118,
   "id": "bdc2303e",
   "metadata": {},
   "outputs": [
    {
     "data": {
      "text/plain": [
       "17.5"
      ]
     },
     "execution_count": 118,
     "metadata": {},
     "output_type": "execute_result"
    }
   ],
   "source": [
    "cust = 15\n",
    "sd_cust = 3\n",
    "time_order = 2\n",
    "get_food = 10\n",
    "eat_food = 15\n",
    "\n",
    "line = 60 - get_food - eat_food\n",
    "\n",
    "line / time_order"
   ]
  },
  {
   "cell_type": "code",
   "execution_count": 119,
   "id": "498b86ba",
   "metadata": {},
   "outputs": [
    {
     "data": {
      "text/plain": [
       "79.76716190363568"
      ]
     },
     "execution_count": 119,
     "metadata": {},
     "output_type": "execute_result"
    }
   ],
   "source": [
    "stats.norm(15, 3).cdf(17.5) *100"
   ]
  },
  {
   "cell_type": "markdown",
   "id": "461ed9a1",
   "metadata": {},
   "source": [
    "# Problem 7\n",
    "## Connect to the employees database and find the average salary of current employees, along with the standard deviation. For the following questions, calculate the answer based on modeling the employees salaries with a normal distribution defined by the calculated mean and standard deviation then compare this answer to the actual values present in the salaries dataset.\n",
    "- What percent of employees earn less than 60,000?\n",
    "- What percent of employees earn more than 95,000?\n",
    "- What percent of employees earn between 65,000 and 80,000?\n",
    "- What do the top 5% of employees make?"
   ]
  },
  {
   "cell_type": "code",
   "execution_count": 19,
   "id": "23d991b5",
   "metadata": {},
   "outputs": [],
   "source": [
    "import numpy as np\n",
    "import pandas as pd\n",
    "from env import host, user, password\n",
    "\n",
    "def get_db_url(host = host, user = user, password = password, db = 'employees'):\n",
    "    return f'mysql+pymysql://{user}:{password}@{host}/{db}'"
   ]
  },
  {
   "cell_type": "code",
   "execution_count": 20,
   "id": "b04976ee",
   "metadata": {},
   "outputs": [],
   "source": [
    "sql = '''\n",
    "SELECT salary\n",
    "FROM salaries\n",
    "WHERE to_date >=NOW()\n",
    "'''\n",
    "\n",
    "salaries = pd.read_sql(sql, get_db_url())"
   ]
  },
  {
   "cell_type": "code",
   "execution_count": 21,
   "id": "1f4d6caf",
   "metadata": {},
   "outputs": [],
   "source": [
    "sal_std = salaries.salary.std()\n",
    "sal_mean = salaries.salary.mean()\n",
    "\n",
    "sal_dist = stats.norm(sal_mean, sal_std)"
   ]
  },
  {
   "cell_type": "code",
   "execution_count": 22,
   "id": "7a911e79",
   "metadata": {
    "scrolled": true
   },
   "outputs": [
    {
     "data": {
      "text/plain": [
       "24.38574248021442"
      ]
     },
     "execution_count": 22,
     "metadata": {},
     "output_type": "execute_result"
    }
   ],
   "source": [
    "sal_dist.cdf(60000) * 100 #Estimated"
   ]
  },
  {
   "cell_type": "code",
   "execution_count": 23,
   "id": "79276016",
   "metadata": {},
   "outputs": [
    {
     "data": {
      "text/plain": [
       "27.05727041028802"
      ]
     },
     "execution_count": 23,
     "metadata": {},
     "output_type": "execute_result"
    }
   ],
   "source": [
    "(salaries.salary < 60000).mean() * 100 #Actual"
   ]
  },
  {
   "cell_type": "code",
   "execution_count": 24,
   "id": "957cd0be",
   "metadata": {},
   "outputs": [
    {
     "data": {
      "text/plain": [
       "9.208819199804053"
      ]
     },
     "execution_count": 24,
     "metadata": {},
     "output_type": "execute_result"
    }
   ],
   "source": [
    "sal_dist.sf(95000)* 100 #Estimated"
   ]
  },
  {
   "cell_type": "code",
   "execution_count": 25,
   "id": "fa45ec3c",
   "metadata": {},
   "outputs": [
    {
     "data": {
      "text/plain": [
       "10.86272092752078"
      ]
     },
     "execution_count": 25,
     "metadata": {},
     "output_type": "execute_result"
    }
   ],
   "source": [
    "(salaries.salary > 95000).mean() *100 #Actual"
   ]
  },
  {
   "cell_type": "code",
   "execution_count": 26,
   "id": "044fab5f",
   "metadata": {},
   "outputs": [
    {
     "data": {
      "text/plain": [
       "33.50605685446666"
      ]
     },
     "execution_count": 26,
     "metadata": {},
     "output_type": "execute_result"
    }
   ],
   "source": [
    "(sal_dist.cdf(80000) - sal_dist.cdf(65000)) * 100 #Estimated"
   ]
  },
  {
   "cell_type": "code",
   "execution_count": 27,
   "id": "8fbf1bfb",
   "metadata": {},
   "outputs": [
    {
     "data": {
      "text/plain": [
       "32.5107028035515"
      ]
     },
     "execution_count": 27,
     "metadata": {},
     "output_type": "execute_result"
    }
   ],
   "source": [
    "((salaries.salary > 65000) & (salaries.salary <80000)).mean() * 100 #Actual"
   ]
  },
  {
   "cell_type": "code",
   "execution_count": 28,
   "id": "ecf14a16",
   "metadata": {},
   "outputs": [
    {
     "data": {
      "text/plain": [
       "100484.64454102777"
      ]
     },
     "execution_count": 28,
     "metadata": {},
     "output_type": "execute_result"
    }
   ],
   "source": [
    "sal_dist.isf(.05) #Estimated"
   ]
  },
  {
   "cell_type": "code",
   "execution_count": 29,
   "id": "42f427a3",
   "metadata": {
    "scrolled": false
   },
   "outputs": [
    {
     "data": {
      "text/plain": [
       "salary    104225.85\n",
       "Name: 0.95, dtype: float64"
      ]
     },
     "execution_count": 29,
     "metadata": {},
     "output_type": "execute_result"
    }
   ],
   "source": [
    "salaries.quantile(.95) #Actual"
   ]
  },
  {
   "cell_type": "markdown",
   "id": "3eae5600",
   "metadata": {},
   "source": [
    "# Sandbox"
   ]
  },
  {
   "cell_type": "code",
   "execution_count": 69,
   "id": "26bc13c4",
   "metadata": {},
   "outputs": [
    {
     "data": {
      "text/html": [
       "<div>\n",
       "<style scoped>\n",
       "    .dataframe tbody tr th:only-of-type {\n",
       "        vertical-align: middle;\n",
       "    }\n",
       "\n",
       "    .dataframe tbody tr th {\n",
       "        vertical-align: top;\n",
       "    }\n",
       "\n",
       "    .dataframe thead th {\n",
       "        text-align: right;\n",
       "    }\n",
       "</style>\n",
       "<table border=\"1\" class=\"dataframe\">\n",
       "  <thead>\n",
       "    <tr style=\"text-align: right;\">\n",
       "      <th></th>\n",
       "      <th>nums</th>\n",
       "    </tr>\n",
       "  </thead>\n",
       "  <tbody>\n",
       "    <tr>\n",
       "      <th>0</th>\n",
       "      <td>2873.119010</td>\n",
       "    </tr>\n",
       "    <tr>\n",
       "      <th>1</th>\n",
       "      <td>3052.930848</td>\n",
       "    </tr>\n",
       "    <tr>\n",
       "      <th>2</th>\n",
       "      <td>3078.996087</td>\n",
       "    </tr>\n",
       "    <tr>\n",
       "      <th>3</th>\n",
       "      <td>2813.654158</td>\n",
       "    </tr>\n",
       "    <tr>\n",
       "      <th>4</th>\n",
       "      <td>2974.511873</td>\n",
       "    </tr>\n",
       "  </tbody>\n",
       "</table>\n",
       "</div>"
      ],
      "text/plain": [
       "          nums\n",
       "0  2873.119010\n",
       "1  3052.930848\n",
       "2  3078.996087\n",
       "3  2813.654158\n",
       "4  2974.511873"
      ]
     },
     "execution_count": 69,
     "metadata": {},
     "output_type": "execute_result"
    }
   ],
   "source": [
    "\n",
    "y = stats.norm(3_000, 100)\n",
    "\n",
    "df = pd.DataFrame(columns = {'nums'}, data = y.rvs(100))\n",
    "df.head()"
   ]
  },
  {
   "cell_type": "code",
   "execution_count": 81,
   "id": "1d2ff874",
   "metadata": {},
   "outputs": [],
   "source": [
    "df['top_decile'] = df.nums > (df.nums.max() * .90)"
   ]
  },
  {
   "cell_type": "code",
   "execution_count": 82,
   "id": "f69b618d",
   "metadata": {},
   "outputs": [
    {
     "data": {
      "text/plain": [
       "2948.799083132333"
      ]
     },
     "execution_count": 82,
     "metadata": {},
     "output_type": "execute_result"
    }
   ],
   "source": [
    "df.nums.max()* .90"
   ]
  },
  {
   "cell_type": "code",
   "execution_count": 90,
   "id": "7dedf4d8",
   "metadata": {},
   "outputs": [
    {
     "data": {
      "text/plain": [
       "0.71"
      ]
     },
     "execution_count": 90,
     "metadata": {},
     "output_type": "execute_result"
    }
   ],
   "source": [
    "df.top_decile.mean()"
   ]
  },
  {
   "cell_type": "code",
   "execution_count": null,
   "id": "d6640f5e",
   "metadata": {},
   "outputs": [],
   "source": []
  }
 ],
 "metadata": {
  "kernelspec": {
   "display_name": "Python 3",
   "language": "python",
   "name": "python3"
  },
  "language_info": {
   "codemirror_mode": {
    "name": "ipython",
    "version": 3
   },
   "file_extension": ".py",
   "mimetype": "text/x-python",
   "name": "python",
   "nbconvert_exporter": "python",
   "pygments_lexer": "ipython3",
   "version": "3.8.8"
  }
 },
 "nbformat": 4,
 "nbformat_minor": 5
}
