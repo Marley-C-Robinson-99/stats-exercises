{
 "cells": [
  {
   "cell_type": "markdown",
   "id": "91e82da8",
   "metadata": {},
   "source": [
    "# Hypothesis 1:\n",
    "\n",
    "$H_{0}$: The network latency has gone down or stayed the same since switching providers\n",
    "\n",
    "$H_{a}$: The network latency has increased since sqitching providers\n",
    "- True Pos.: Latency has NOT gone down or stayed the same, went with alternate hypthesis\n",
    "- True Neg.: Latency has NOT gone up, went with null\n",
    "- Error T1: Latency has gone down or stayed the same, went with alternate\n",
    "- Error T2: Latency has gone up, went with null"
   ]
  },
  {
   "cell_type": "markdown",
   "id": "33dea301",
   "metadata": {},
   "source": [
    "# Hypothesis 2:\n",
    "\n",
    "$H_{0}$: The website redesign is the same quality or worse than it was before.\n",
    "\n",
    "$H_{a}$: The website redesign is good\n",
    "- True Pos.: The website redesign is NOT the same quality or worse than it was before, went with alternate hypthesis\n",
    "- True Neg.: The website redesign is NOT good, went with null\n",
    "- Error T1: The website redisgn IS the same quality or worse than it was before, went with alternate\n",
    "- Error T2: The website redesign IS good, went with null"
   ]
  },
  {
   "cell_type": "markdown",
   "id": "9d4fc82d",
   "metadata": {},
   "source": [
    "# Hypothesis 3:\n",
    "\n",
    "$H_{0}$: The televison ad is not affecting or is lowering sales.\n",
    "\n",
    "$H_{a}$: The television ad is increasing sales.\n",
    "- True Pos.: The televison ad IS affecting or is NOT lowering sales, went with alternate hypthesis\n",
    "- True Neg.: The television ad is NOT increasing sales, went with null\n",
    "- Error T1: The televison ad is NOT affecting or IS lowering sales, went with alternate\n",
    "- Error T2: The television ad IS increasing sales, went with null"
   ]
  },
  {
   "cell_type": "code",
   "execution_count": null,
   "id": "c25e2254",
   "metadata": {},
   "outputs": [],
   "source": []
  }
 ],
 "metadata": {
  "kernelspec": {
   "display_name": "Python 3",
   "language": "python",
   "name": "python3"
  },
  "language_info": {
   "codemirror_mode": {
    "name": "ipython",
    "version": 3
   },
   "file_extension": ".py",
   "mimetype": "text/x-python",
   "name": "python",
   "nbconvert_exporter": "python",
   "pygments_lexer": "ipython3",
   "version": "3.8.8"
  }
 },
 "nbformat": 4,
 "nbformat_minor": 5
}
