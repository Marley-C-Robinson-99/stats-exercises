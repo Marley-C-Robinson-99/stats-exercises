{
 "cells": [
  {
   "cell_type": "markdown",
   "id": "332099f2",
   "metadata": {},
   "source": [
    "# Hypothesis 1:\n",
    "\n",
    "$H_{0}$: The network latency has gone down or stayed the same since switching providers\n",
    "\n",
    "$H_{a}$: The network latency has increased since sqitching providers\n",
    "- True Pos.: Latency has NOT gone down or stayed the same, went with alternate hypthesis\n",
    "- True Neg.: Latency has NOT gone up, went with null\n",
    "- Error T1: Latency has gone down or stayed the same, went with alternate\n",
    "- Error T2: Latency has gone up, went with null"
   ]
  },
  {
   "cell_type": "markdown",
   "id": "08351c96",
   "metadata": {},
   "source": [
    "# Hypothesis 2:\n",
    "\n",
    "$H_{0}$: The website redesign is the same quality or worse than it was before.\n",
    "\n",
    "$H_{a}$: The website redesign is good\n",
    "- True Pos.: The website redesign is NOT the same quality or worse than it was before, went with alternate hypthesis\n",
    "- True Neg.: The website redesign is NOT good, went with null\n",
    "- Error T1: The website redisgn IS the same quality or worse than it was before, went with alternate\n",
    "- Error T2: The website redesign IS good, went with null"
   ]
  },
  {
   "cell_type": "markdown",
   "id": "69a82562",
   "metadata": {},
   "source": [
    "# Hypothesis 3:\n",
    "\n",
    "$H_{0}$: The televison ad is not affecting or is lowering sales.\n",
    "\n",
    "$H_{a}$: The television ad is increasing sales.\n",
    "- True Pos.: The televison ad IS affecting or is NOT lowering sales, went with alternate hypthesis\n",
    "- True Neg.: The television ad is NOT increasing sales, went with null\n",
    "- Error T1: The televison ad is NOT affecting or IS lowering sales, went with alternate\n",
    "- Error T2: The television ad IS increasing sales, went with null"
   ]
  },
  {
   "cell_type": "markdown",
   "id": "2c1f7c16",
   "metadata": {},
   "source": [
    "## Question 1\n",
    "Ace Realty wants to determine whether the average time it takes to sell homes is different for its two offices. A sample of 40 sales from office #1 revealed a mean of 90 days and a standard deviation of 15 days. A sample of 50 sales from office #2 revealed a mean of 100 days and a standard deviation of 20 days. Use a .05 level of significance.\n",
    "\n"
   ]
  },
  {
   "cell_type": "code",
   "execution_count": 2,
   "id": "34a347d3",
   "metadata": {},
   "outputs": [],
   "source": [
    "import matplotlib.pyplot as plt\n",
    "import numpy as np\n",
    "from scipy import stats\n",
    "from pydataset import data\n",
    "alpha = .05"
   ]
  },
  {
   "cell_type": "code",
   "execution_count": 3,
   "id": "e3b3d4ca",
   "metadata": {},
   "outputs": [
    {
     "data": {
      "text/plain": [
       "(-2.7091418459143854, 0.00811206270346016)"
      ]
     },
     "execution_count": 3,
     "metadata": {},
     "output_type": "execute_result"
    }
   ],
   "source": [
    "u1 = 90\n",
    "s1 = 15\n",
    "n1 = 40\n",
    "\n",
    "u2 = 100\n",
    "s2 = 20\n",
    "n2 = 50\n",
    "t, p =stats.ttest_ind_from_stats(u1, s1, n1, u2, s2, n2, equal_var = False)\n",
    "t, p"
   ]
  },
  {
   "cell_type": "code",
   "execution_count": 4,
   "id": "9ae8057a",
   "metadata": {},
   "outputs": [
    {
     "name": "stdout",
     "output_type": "stream",
     "text": [
      "H_0 is not rejected\n"
     ]
    }
   ],
   "source": [
    "if p < alpha:\n",
    "    print('H_0 is not rejected')"
   ]
  },
  {
   "cell_type": "markdown",
   "id": "d90460fd",
   "metadata": {},
   "source": [
    "$H_{0}$ accepted"
   ]
  },
  {
   "cell_type": "markdown",
   "id": "12320660",
   "metadata": {},
   "source": [
    "## Question 2\n",
    "### Load the `mpg` dataset and use it to answer the following questions:\n",
    "\n",
    "- Is there a difference in fuel-efficiency in cars from 2008 vs 1999?\n",
    "- Are compact cars more fuel-efficient than the average car?\n",
    "- Do manual cars get better gas mileage than automatic cars?"
   ]
  },
  {
   "cell_type": "markdown",
   "id": "027acb3d",
   "metadata": {},
   "source": [
    "### Is there a difference in fuel-efficiency in cars from 2008 vs 1999?"
   ]
  },
  {
   "cell_type": "code",
   "execution_count": 5,
   "id": "54d1fce3",
   "metadata": {},
   "outputs": [],
   "source": [
    "mpg = data('mpg')\n",
    "mpg['avg_fe'] = stats.hmean(mpg[['cty', 'hwy']], axis = 1)"
   ]
  },
  {
   "cell_type": "code",
   "execution_count": 6,
   "id": "eab3c546",
   "metadata": {},
   "outputs": [
    {
     "data": {
      "text/plain": [
       "(108.49042145593873, 96.38992042440319)"
      ]
     },
     "execution_count": 6,
     "metadata": {},
     "output_type": "execute_result"
    }
   ],
   "source": [
    "fe08 = mpg[mpg.year == 2008].hwy + mpg[mpg.year == 2008].cty\n",
    "fe99 = mpg[mpg.year == 1999].hwy + mpg[mpg.year == 1999].cty\n",
    "\n",
    "varience = fe99.var(), fe08.var()\n",
    "varience"
   ]
  },
  {
   "cell_type": "code",
   "execution_count": 7,
   "id": "06bedcb6",
   "metadata": {},
   "outputs": [
    {
     "data": {
      "text/plain": [
       "(-0.21960177245940962, 0.8263750772060638)"
      ]
     },
     "execution_count": 7,
     "metadata": {},
     "output_type": "execute_result"
    }
   ],
   "source": [
    "t, p = stats.ttest_ind(fe08, fe99, equal_var = False)\n",
    "t, p"
   ]
  },
  {
   "cell_type": "code",
   "execution_count": 8,
   "id": "ca616ba1",
   "metadata": {},
   "outputs": [
    {
     "data": {
      "text/plain": [
       "False"
      ]
     },
     "execution_count": 8,
     "metadata": {},
     "output_type": "execute_result"
    }
   ],
   "source": [
    "p < alpha"
   ]
  },
  {
   "cell_type": "markdown",
   "id": "0f21fec6",
   "metadata": {},
   "source": [
    "#### Analysis\n",
    "We fail to reject $H_{0}$ as the p is greater than alpha."
   ]
  },
  {
   "cell_type": "markdown",
   "id": "d6716b87",
   "metadata": {},
   "source": [
    "### Are compact cars more fuel-efficient than the average car?"
   ]
  },
  {
   "cell_type": "code",
   "execution_count": 9,
   "id": "5267b847",
   "metadata": {},
   "outputs": [],
   "source": [
    "fe_compact = mpg[mpg['class'] == 'compact'].avg_fe\n",
    "μ = mpg.avg_fe.mean()"
   ]
  },
  {
   "cell_type": "code",
   "execution_count": 11,
   "id": "7210a025",
   "metadata": {},
   "outputs": [
    {
     "data": {
      "text/plain": [
       "<AxesSubplot:>"
      ]
     },
     "execution_count": 11,
     "metadata": {},
     "output_type": "execute_result"
    },
    {
     "data": {
      "image/png": "[encoded data removed]",
      "text/plain": [
       "<Figure size 432x288 with 1 Axes>"
      ]
     },
     "metadata": {
      "needs_background": "light"
     },
     "output_type": "display_data"
    }
   ],
   "source": [
    "mpg.avg_fe.hist()"
   ]
  },
  {
   "cell_type": "code",
   "execution_count": 12,
   "id": "c9f5401c",
   "metadata": {},
   "outputs": [
    {
     "data": {
      "text/plain": [
       "<AxesSubplot:>"
      ]
     },
     "execution_count": 12,
     "metadata": {},
     "output_type": "execute_result"
    },
    {
     "data": {
      "image/png": "[encoded data removed]",
      "text/plain": [
       "<Figure size 432x288 with 1 Axes>"
      ]
     },
     "metadata": {
      "needs_background": "light"
     },
     "output_type": "display_data"
    }
   ],
   "source": [
    "fe_compact.hist()"
   ]
  },
  {
   "cell_type": "code",
   "execution_count": 13,
   "id": "6730fa7c",
   "metadata": {},
   "outputs": [
    {
     "data": {
      "text/plain": [
       "24.106173930122633"
      ]
     },
     "execution_count": 13,
     "metadata": {},
     "output_type": "execute_result"
    }
   ],
   "source": [
    "mpg.avg_fe.var()"
   ]
  },
  {
   "cell_type": "code",
   "execution_count": 14,
   "id": "b51052b2",
   "metadata": {},
   "outputs": [
    {
     "data": {
      "text/plain": [
       "12.763933193960233"
      ]
     },
     "execution_count": 14,
     "metadata": {},
     "output_type": "execute_result"
    }
   ],
   "source": [
    "fe_compact.var()"
   ]
  },
  {
   "cell_type": "code",
   "execution_count": 19,
   "id": "fd368cb6",
   "metadata": {},
   "outputs": [
    {
     "data": {
      "text/plain": [
       "(7.512360093161354, 7.808833174403864e-10)"
      ]
     },
     "execution_count": 19,
     "metadata": {},
     "output_type": "execute_result"
    }
   ],
   "source": [
    "t, p = stats.ttest_1samp(fe_compact, μ)\n",
    "#t, p = stats.mannwhitneyu(fe_compact, mpg.avg_fe)\n",
    "t, p/2"
   ]
  },
  {
   "cell_type": "code",
   "execution_count": null,
   "id": "2dd85d16",
   "metadata": {},
   "outputs": [],
   "source": [
    "p/2 < alpha"
   ]
  },
  {
   "cell_type": "markdown",
   "id": "24440755",
   "metadata": {},
   "source": [
    "#### Analysis\n",
    "We reject $H_{0}$ as the p is less than alpha.\n",
    "\n",
    "Additionally, as this is a single-tailed question, the t being greater than 0 indicates that $H_{a}$ is also correct."
   ]
  },
  {
   "cell_type": "markdown",
   "id": "9ca06cc5",
   "metadata": {},
   "source": [
    "### Do manual cars get better gas mileage than automatic cars?"
   ]
  },
  {
   "cell_type": "code",
   "execution_count": null,
   "id": "180ebd09",
   "metadata": {},
   "outputs": [],
   "source": [
    "fe_manual = mpg[mpg.trans.str.contains('manual')].avg_fe\n",
    "fe_automatic = mpg[mpg.trans.str.contains('auto')].avg_fe"
   ]
  },
  {
   "cell_type": "code",
   "execution_count": null,
   "id": "144115f5",
   "metadata": {},
   "outputs": [],
   "source": [
    "variance = fe_manual.var(), fe_automatic.var()\n",
    "variance"
   ]
  },
  {
   "cell_type": "code",
   "execution_count": null,
   "id": "de6fcc01",
   "metadata": {},
   "outputs": [],
   "source": [
    "t, p = stats.ttest_ind(fe_manual, fe_automatic, equal_var = False)\n",
    "t, p/2"
   ]
  },
  {
   "cell_type": "code",
   "execution_count": null,
   "id": "af70f5af",
   "metadata": {},
   "outputs": [],
   "source": [
    "p < alpha"
   ]
  },
  {
   "cell_type": "markdown",
   "id": "ca59e276",
   "metadata": {},
   "source": [
    "#### Analysis\n",
    "We fail to reject $H_{0}$ as the p is less than alpha.\n",
    "\n",
    "Additionally, as this is a single-tailed question, the t being greater than 0 indicates that $H_{a}$ is also correct."
   ]
  }
 ],
 "metadata": {
  "kernelspec": {
   "display_name": "Python 3",
   "language": "python",
   "name": "python3"
  },
  "language_info": {
   "codemirror_mode": {
    "name": "ipython",
    "version": 3
   },
   "file_extension": ".py",
   "mimetype": "text/x-python",
   "name": "python",
   "nbconvert_exporter": "python",
   "pygments_lexer": "ipython3",
   "version": "3.8.8"
  }
 },
 "nbformat": 4,
 "nbformat_minor": 5
}
